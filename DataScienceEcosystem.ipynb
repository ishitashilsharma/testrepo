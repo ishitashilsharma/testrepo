{
 "cells": [
  {
   "cell_type": "markdown",
   "id": "8ca76117-55c6-4777-920b-eeb094dbe213",
   "metadata": {},
   "source": [
    "## Data Science Tools and Ecosystem"
   ]
  },
  {
   "cell_type": "markdown",
   "id": "62cf9ecc-545d-4e48-8b50-74f51d856800",
   "metadata": {},
   "source": [
    "In this notebook, data science tools and ecosystems are summarized."
   ]
  },
  {
   "cell_type": "markdown",
   "id": "f7e83906-b43b-4909-8c15-53c7ac84eb7a",
   "metadata": {},
   "source": [
    "Some of the popular languages that data scientists use are:\n",
    "    \n",
    "    1. Python\n",
    "    2. R\n",
    "    3. SQL\n",
    "    4. C++\n",
    "    5. Java"
   ]
  },
  {
   "cell_type": "markdown",
   "id": "22892637-a483-4140-af23-b0fa40f214cf",
   "metadata": {
    "tags": []
   },
   "source": [
    "Some of the commonly used libraries by data scientists are:\n",
    "    \n",
    "    1. TensorFlow\n",
    "    2. NumPy\n",
    "    3. SciPy\n",
    "    4. Pandas\n",
    "    5. Matplotlib\n",
    "    6. Keras\n",
    "    7. SciKit-Learn\n",
    "    8. PyTorch"
   ]
  },
  {
   "cell_type": "markdown",
   "id": "42ddf8ff-8276-4615-bfb5-6935568416d0",
   "metadata": {
    "tags": []
   },
   "source": [
    "|Data Science Tools|\n",
    "|---|\n",
    "|SAS|\n",
    "|Apache Hadoop|\n",
    "|TensorFlow|"
   ]
  },
  {
   "cell_type": "markdown",
   "id": "6929023f-d29d-45d0-9328-75484797cd5d",
   "metadata": {},
   "source": [
    "### Below are the few examples of evaluating arithmetic expressions in Python."
   ]
  },
  {
   "cell_type": "code",
   "execution_count": 1,
   "id": "9fa9961a-ff84-4ed7-8811-942d46ad30dd",
   "metadata": {
    "tags": []
   },
   "outputs": [
    {
     "data": {
      "text/plain": [
       "17"
      ]
     },
     "execution_count": 1,
     "metadata": {},
     "output_type": "execute_result"
    }
   ],
   "source": [
    "# This is the common example to multiply and add integers\n",
    "(3*4)+5"
   ]
  },
  {
   "cell_type": "code",
   "execution_count": 2,
   "id": "914ca862-4ffe-4222-884d-cd636aba5e8a",
   "metadata": {
    "tags": []
   },
   "outputs": [
    {
     "data": {
      "text/plain": [
       "3.3333333333333335"
      ]
     },
     "execution_count": 2,
     "metadata": {},
     "output_type": "execute_result"
    }
   ],
   "source": [
    "# This will convert 200 minutes to hours by dividing by 60\n",
    "200/60"
   ]
  },
  {
   "cell_type": "markdown",
   "id": "a6b8357f-7dcd-4cf1-a7ff-0f48730fa7a8",
   "metadata": {
    "tags": []
   },
   "source": [
    "__Objective__\n",
    "* List popular languages for Data Science\n",
    "* List popular libraries for Data Science\n",
    "* List the well known Data Science tools\n",
    "* How to provide comments in the cells"
   ]
  },
  {
   "cell_type": "markdown",
   "id": "3ee8e664-f5ce-4930-bcf6-f298e173e280",
   "metadata": {},
   "source": [
    "## Author name\n",
    "\n",
    "Ishita Shil Sharma"
   ]
  }
 ],
 "metadata": {
  "kernelspec": {
   "display_name": "Python",
   "language": "python",
   "name": "conda-env-python-py"
  },
  "language_info": {
   "codemirror_mode": {
    "name": "ipython",
    "version": 3
   },
   "file_extension": ".py",
   "mimetype": "text/x-python",
   "name": "python",
   "nbconvert_exporter": "python",
   "pygments_lexer": "ipython3",
   "version": "3.7.12"
  }
 },
 "nbformat": 4,
 "nbformat_minor": 5
}
